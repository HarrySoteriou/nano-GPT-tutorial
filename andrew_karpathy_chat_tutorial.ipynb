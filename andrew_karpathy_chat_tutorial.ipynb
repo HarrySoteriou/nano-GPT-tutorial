{
 "cells": [
  {
   "attachments": {},
   "cell_type": "markdown",
   "metadata": {},
   "source": [
    "## 1. Download and observe dataset"
   ]
  },
  {
   "cell_type": "code",
   "execution_count": 2,
   "metadata": {},
   "outputs": [
    {
     "data": {
      "text/plain": [
       "'input (1).txt'"
      ]
     },
     "execution_count": 2,
     "metadata": {},
     "output_type": "execute_result"
    }
   ],
   "source": [
    "import wget\n",
    "wget.download(url=\"https://raw.githubusercontent.com/karpathy/char-rnn/master/data/tinyshakespeare/input.txt\")"
   ]
  },
  {
   "cell_type": "code",
   "execution_count": 3,
   "metadata": {},
   "outputs": [],
   "source": [
    "with open(\"input.txt\", \"r\", encoding='utf-8') as f:\n",
    "    text = f.read()"
   ]
  },
  {
   "cell_type": "code",
   "execution_count": 4,
   "metadata": {},
   "outputs": [
    {
     "name": "stdout",
     "output_type": "stream",
     "text": [
      "length of dataset in characters is: 1115394\n"
     ]
    }
   ],
   "source": [
    "print(\"length of dataset in characters is:\", len(text))"
   ]
  },
  {
   "cell_type": "code",
   "execution_count": 5,
   "metadata": {},
   "outputs": [
    {
     "name": "stdout",
     "output_type": "stream",
     "text": [
      "First Citizen:\n",
      "Before we proceed any further, hear me speak.\n",
      "\n",
      "All:\n",
      "Speak, speak.\n",
      "\n",
      "First Citizen:\n",
      "You\n"
     ]
    }
   ],
   "source": [
    "# display the first 100 characters\n",
    "print(text[:100])"
   ]
  },
  {
   "attachments": {},
   "cell_type": "markdown",
   "metadata": {},
   "source": [
    "## 2. Create Encoder and Decoder by mapping integers to and from characters"
   ]
  },
  {
   "cell_type": "code",
   "execution_count": 6,
   "metadata": {},
   "outputs": [
    {
     "name": "stdout",
     "output_type": "stream",
     "text": [
      "\n",
      " !$&',-.3:;?ABCDEFGHIJKLMNOPQRSTUVWXYZabcdefghijklmnopqrstuvwxyz\n",
      "65\n"
     ]
    }
   ],
   "source": [
    "# extract all unique characters and sort them\n",
    "chars = sorted(list(set(text)))\n",
    "# the amount of unique character is the lenght of the previous list\n",
    "vocab_size = len(chars)\n",
    "print(\"\".join(chars))\n",
    "print(vocab_size)"
   ]
  },
  {
   "cell_type": "code",
   "execution_count": 7,
   "metadata": {},
   "outputs": [
    {
     "name": "stdout",
     "output_type": "stream",
     "text": [
      "{'\\n': 0, ' ': 1, '!': 2, '$': 3, '&': 4, \"'\": 5, ',': 6, '-': 7, '.': 8, '3': 9, ':': 10, ';': 11, '?': 12, 'A': 13, 'B': 14, 'C': 15, 'D': 16, 'E': 17, 'F': 18, 'G': 19, 'H': 20, 'I': 21, 'J': 22, 'K': 23, 'L': 24, 'M': 25, 'N': 26, 'O': 27, 'P': 28, 'Q': 29, 'R': 30, 'S': 31, 'T': 32, 'U': 33, 'V': 34, 'W': 35, 'X': 36, 'Y': 37, 'Z': 38, 'a': 39, 'b': 40, 'c': 41, 'd': 42, 'e': 43, 'f': 44, 'g': 45, 'h': 46, 'i': 47, 'j': 48, 'k': 49, 'l': 50, 'm': 51, 'n': 52, 'o': 53, 'p': 54, 'q': 55, 'r': 56, 's': 57, 't': 58, 'u': 59, 'v': 60, 'w': 61, 'x': 62, 'y': 63, 'z': 64}\n",
      "{0: '\\n', 1: ' ', 2: '!', 3: '$', 4: '&', 5: \"'\", 6: ',', 7: '-', 8: '.', 9: '3', 10: ':', 11: ';', 12: '?', 13: 'A', 14: 'B', 15: 'C', 16: 'D', 17: 'E', 18: 'F', 19: 'G', 20: 'H', 21: 'I', 22: 'J', 23: 'K', 24: 'L', 25: 'M', 26: 'N', 27: 'O', 28: 'P', 29: 'Q', 30: 'R', 31: 'S', 32: 'T', 33: 'U', 34: 'V', 35: 'W', 36: 'X', 37: 'Y', 38: 'Z', 39: 'a', 40: 'b', 41: 'c', 42: 'd', 43: 'e', 44: 'f', 45: 'g', 46: 'h', 47: 'i', 48: 'j', 49: 'k', 50: 'l', 51: 'm', 52: 'n', 53: 'o', 54: 'p', 55: 'q', 56: 'r', 57: 's', 58: 't', 59: 'u', 60: 'v', 61: 'w', 62: 'x', 63: 'y', 64: 'z'}\n"
     ]
    }
   ],
   "source": [
    "# create a mapping from characters to integers\n",
    "char_to_int = {ch:i for i,ch in enumerate(chars)}\n",
    "print(char_to_int)\n",
    "\n",
    "# create a mapping from integers to characters\n",
    "int_to_char = {i:ch for i,ch in enumerate(chars)}\n",
    "print(int_to_char)"
   ]
  },
  {
   "cell_type": "code",
   "execution_count": 8,
   "metadata": {},
   "outputs": [
    {
     "data": {
      "text/plain": [
       "['s', 't', 'o', 'p']"
      ]
     },
     "execution_count": 8,
     "metadata": {},
     "output_type": "execute_result"
    }
   ],
   "source": [
    "list(\"stop\")"
   ]
  },
  {
   "cell_type": "code",
   "execution_count": 9,
   "metadata": {},
   "outputs": [
    {
     "name": "stdout",
     "output_type": "stream",
     "text": [
      "[57, 58, 53, 54]\n",
      "stop\n"
     ]
    }
   ],
   "source": [
    "#Encoder: Take string and map it to a list of integers\n",
    "encode = lambda input_text: [char_to_int[s] for s in list(input_text)]\n",
    "print(encode(\"stop\"))\n",
    "\n",
    "# Decoder: take a list of integers, output a string\n",
    "decode = lambda list_of_ints: \"\".join([int_to_char[i] for i in list_of_ints])\n",
    "print(decode(encode(\"stop\")))"
   ]
  },
  {
   "attachments": {},
   "cell_type": "markdown",
   "metadata": {},
   "source": [
    "## 3. Split train and test data, create batches"
   ]
  },
  {
   "cell_type": "code",
   "execution_count": 10,
   "metadata": {},
   "outputs": [
    {
     "name": "stdout",
     "output_type": "stream",
     "text": [
      "torch.Size([1115394]) torch.int64\n",
      "tensor([18, 47, 56, 57, 58,  1, 15, 47, 58, 47, 64, 43, 52, 10,  0, 14, 43, 44,\n",
      "        53, 56, 43,  1, 61, 43,  1, 54, 56, 53, 41, 43, 43, 42,  1, 39, 52, 63,\n",
      "         1, 44, 59, 56, 58, 46, 43, 56,  6,  1, 46, 43, 39, 56,  1, 51, 43,  1,\n",
      "        57, 54, 43, 39, 49,  8,  0,  0, 13, 50, 50, 10,  0, 31, 54, 43, 39, 49,\n",
      "         6,  1, 57, 54, 43, 39, 49,  8,  0,  0, 18, 47, 56, 57, 58,  1, 15, 47,\n",
      "        58, 47, 64, 43, 52, 10,  0, 37, 53, 59])\n"
     ]
    }
   ],
   "source": [
    "import torch\n",
    "data = torch.tensor(encode(text), dtype = torch.long)\n",
    "print(data.shape, data.dtype)\n",
    "print(data[:100])"
   ]
  },
  {
   "cell_type": "code",
   "execution_count": 11,
   "metadata": {},
   "outputs": [],
   "source": [
    "# Let's now split up the data into train and validation sets\n",
    "n=int(0.85 *len(data)) # 85 / 15 split\n",
    "train_data = data[:n]\n",
    "val_data = data[n:]"
   ]
  },
  {
   "cell_type": "code",
   "execution_count": 12,
   "metadata": {},
   "outputs": [
    {
     "data": {
      "text/plain": [
       "tensor([18, 47, 56, 57, 58,  1, 15, 47, 58])"
      ]
     },
     "execution_count": 12,
     "metadata": {},
     "output_type": "execute_result"
    }
   ],
   "source": [
    "block_size=8\n",
    "train_data[:block_size+1]"
   ]
  },
  {
   "cell_type": "code",
   "execution_count": 13,
   "metadata": {},
   "outputs": [
    {
     "name": "stdout",
     "output_type": "stream",
     "text": [
      "when input in tensor([18]) the target is: 18\n",
      "when input in tensor([18, 47]) the target is: 47\n",
      "when input in tensor([18, 47, 56]) the target is: 56\n",
      "when input in tensor([18, 47, 56, 57]) the target is: 57\n",
      "when input in tensor([18, 47, 56, 57, 58]) the target is: 58\n",
      "when input in tensor([18, 47, 56, 57, 58,  1]) the target is: 1\n",
      "when input in tensor([18, 47, 56, 57, 58,  1, 15]) the target is: 15\n",
      "when input in tensor([18, 47, 56, 57, 58,  1, 15, 47]) the target is: 47\n"
     ]
    }
   ],
   "source": [
    "x = train_data[:block_size]\n",
    "y = train_data[:block_size+1]\n",
    "for t in range(block_size):\n",
    "    context = x[:t+1]\n",
    "    target = y[t]\n",
    "    print(f\"when input in {context} the target is: {target}\")"
   ]
  },
  {
   "cell_type": "code",
   "execution_count": 14,
   "metadata": {},
   "outputs": [
    {
     "name": "stdout",
     "output_type": "stream",
     "text": [
      "inputs:\n",
      "torch.Size([4, 8])\n",
      "tensor([[53, 61, 57, 10,  0, 20, 43,  1],\n",
      "        [39, 41, 43, 42,  1, 58, 46, 43],\n",
      "        [52, 41, 43,  8,  0,  0, 24, 17],\n",
      "        [26, 33, 31, 10,  0, 25, 53, 57]])\n",
      "targets:\n",
      "torch.Size([4, 8])\n",
      "tensor([[61, 57, 10,  0, 20, 43,  1, 58],\n",
      "        [41, 43, 42,  1, 58, 46, 43,  1],\n",
      "        [41, 43,  8,  0,  0, 24, 17, 27],\n",
      "        [33, 31, 10,  0, 25, 53, 57, 58]])\n",
      "______\n",
      "when input is  [53] the target is: 61\n",
      "when input is  [53, 61] the target is: 57\n",
      "when input is  [53, 61, 57] the target is: 10\n",
      "when input is  [53, 61, 57, 10] the target is: 0\n",
      "when input is  [53, 61, 57, 10, 0] the target is: 20\n",
      "when input is  [53, 61, 57, 10, 0, 20] the target is: 43\n",
      "when input is  [53, 61, 57, 10, 0, 20, 43] the target is: 1\n",
      "when input is  [53, 61, 57, 10, 0, 20, 43, 1] the target is: 58\n",
      "when input is  [39] the target is: 41\n",
      "when input is  [39, 41] the target is: 43\n",
      "when input is  [39, 41, 43] the target is: 42\n",
      "when input is  [39, 41, 43, 42] the target is: 1\n",
      "when input is  [39, 41, 43, 42, 1] the target is: 58\n",
      "when input is  [39, 41, 43, 42, 1, 58] the target is: 46\n",
      "when input is  [39, 41, 43, 42, 1, 58, 46] the target is: 43\n",
      "when input is  [39, 41, 43, 42, 1, 58, 46, 43] the target is: 1\n",
      "when input is  [52] the target is: 41\n",
      "when input is  [52, 41] the target is: 43\n",
      "when input is  [52, 41, 43] the target is: 8\n",
      "when input is  [52, 41, 43, 8] the target is: 0\n",
      "when input is  [52, 41, 43, 8, 0] the target is: 0\n",
      "when input is  [52, 41, 43, 8, 0, 0] the target is: 24\n",
      "when input is  [52, 41, 43, 8, 0, 0, 24] the target is: 17\n",
      "when input is  [52, 41, 43, 8, 0, 0, 24, 17] the target is: 27\n",
      "when input is  [26] the target is: 33\n",
      "when input is  [26, 33] the target is: 31\n",
      "when input is  [26, 33, 31] the target is: 10\n",
      "when input is  [26, 33, 31, 10] the target is: 0\n",
      "when input is  [26, 33, 31, 10, 0] the target is: 25\n",
      "when input is  [26, 33, 31, 10, 0, 25] the target is: 53\n",
      "when input is  [26, 33, 31, 10, 0, 25, 53] the target is: 57\n",
      "when input is  [26, 33, 31, 10, 0, 25, 53, 57] the target is: 58\n"
     ]
    }
   ],
   "source": [
    "torch.manual_seed(1337)\n",
    "# how many sequences will we process in parallel \n",
    "batch_size = 4\n",
    "# what is the maximum context length for predictions? \n",
    "block_size = 8\n",
    "\n",
    "def get_batch(split):\n",
    "    data = train_data if split==\"train\" else val_data\n",
    "    ix = torch.randint(len(data) - block_size, (batch_size,))\n",
    "    x = torch.stack([data[i:i+block_size] for i in ix])\n",
    "    y = torch.stack([data[i+1:i+block_size+1] for i in ix])\n",
    "    return x, y\n",
    "\n",
    "xb, yb = get_batch(\"train\")\n",
    "print(\"inputs:\")\n",
    "print(xb.shape)\n",
    "print(xb)\n",
    "print(\"targets:\")\n",
    "print(yb.shape)\n",
    "print(yb)\n",
    "print(\"______\")\n",
    "\n",
    "#for each example in a batch\n",
    "for b in range(batch_size):\n",
    "    # for every element in an example input\n",
    "    for t in range(block_size):\n",
    "        context = xb[b, :t+1]\n",
    "        target = yb[b, t]\n",
    "        print(f\"when input is  {context.tolist()} the target is: {target}\")\n"
   ]
  },
  {
   "attachments": {},
   "cell_type": "markdown",
   "metadata": {},
   "source": [
    "## 4. Define BigramLanguageModel that trains and predicts sequence of characters"
   ]
  },
  {
   "cell_type": "code",
   "execution_count": 15,
   "metadata": {},
   "outputs": [
    {
     "name": "stdout",
     "output_type": "stream",
     "text": [
      "torch.Size([32, 65])\n",
      "tensor(4.9670, grad_fn=<NllLossBackward0>)\n"
     ]
    }
   ],
   "source": [
    "import torch\n",
    "import torch.nn as nn\n",
    "from torch.nn import functional as F\n",
    "torch.manual_seed(1337)\n",
    "\n",
    "class BigramLanguageModel(nn.Module):\n",
    "\n",
    "    def __init__(self, vocab_size):\n",
    "        super(BigramLanguageModel, self).__init__()\n",
    "        # each token directly reads off the logits for \n",
    "        # the next token from a lookup table\n",
    "        self.token_embedding_table = nn.Embedding(vocab_size, vocab_size)\n",
    "    \n",
    "    def forward(self, idx, targets=None):\n",
    "\n",
    "        #idx and targets are both (B,T) tensor of integers\n",
    "        logits = self.token_embedding_table(idx) \n",
    "        if targets is None:\n",
    "            loss = None\n",
    "        else:\n",
    "            #(Batch=batch_size, Time = block_size, Channel = vocab_size)\n",
    "            B, T, C = logits.shape\n",
    "            logits = logits.view(B*T, C)\n",
    "            targets = targets.view(B*T) #could also use targets.view(-1)\n",
    "            loss = F.cross_entropy(logits, targets)\n",
    "        return logits, loss\n",
    "\n",
    "    def generate(self, idx, max_new_tokens):\n",
    "        # idx is  (B,T) array of indices in the current context\n",
    "        for _ in range(max_new_tokens):\n",
    "            # get the predictions => self here is the model\n",
    "            # =>same as doing: logits, loss = m(xb, yb)\n",
    "            logits, loss = self(idx)\n",
    "            # focus only on the last time step (that of the T timension)\n",
    "            logits = logits[:, -1, :] # becomes (B, C)\n",
    "            # apply softmax to get probabilities\n",
    "            probs = F.softmax(logits, dim=-1) # (B, C)\n",
    "            # sample from the distribution\n",
    "            idx_next = torch.multinomial(probs, num_samples=1) # (B, 1)\n",
    "            # append sampled index to the running sequence\n",
    "            idx = torch.cat((idx, idx_next), dim=1) # (B, T+1)\n",
    "        return idx\n",
    "\n",
    "m = BigramLanguageModel(vocab_size)\n",
    "logits, loss = m(xb, yb)\n",
    "print(logits.shape)\n",
    "print(loss)"
   ]
  },
  {
   "cell_type": "code",
   "execution_count": 16,
   "metadata": {},
   "outputs": [
    {
     "data": {
      "text/plain": [
       "4.174387269895637"
      ]
     },
     "execution_count": 16,
     "metadata": {},
     "output_type": "execute_result"
    }
   ],
   "source": [
    "import numpy as np\n",
    "# Note: expected_cross_entropy_loss\n",
    "-np.log(1/65) "
   ]
  },
  {
   "cell_type": "code",
   "execution_count": 17,
   "metadata": {},
   "outputs": [
    {
     "name": "stdout",
     "output_type": "stream",
     "text": [
      "\n",
      "SKIcLT;AcELMoTbvZv C?nq-QE33:CJqkOKH-q;:la!oiywkHjgChzbQ?u!3bLIgwevmyFJGUGp\n",
      "wnYWmnxKWWev-tDqXErVKLgJ\n"
     ]
    }
   ],
   "source": [
    "# Generate from the model\n",
    "idx = torch.zeros((1, 1), dtype = torch.long)\n",
    "print(decode(m.generate(idx, max_new_tokens=100)[0].tolist()))"
   ]
  },
  {
   "attachments": {},
   "cell_type": "markdown",
   "metadata": {},
   "source": [
    "## 5. Train the model"
   ]
  },
  {
   "cell_type": "code",
   "execution_count": 35,
   "metadata": {},
   "outputs": [],
   "source": [
    "# create a PyTorch optimizer\n",
    "optimizer = torch.optim.Adam(m.parameters(), lr=1e-3)"
   ]
  },
  {
   "cell_type": "code",
   "execution_count": 39,
   "metadata": {},
   "outputs": [
    {
     "name": "stdout",
     "output_type": "stream",
     "text": [
      "2.4408676624298096\n"
     ]
    }
   ],
   "source": [
    "batch_size = 32\n",
    "for steps in range(10_000):\n",
    "    # sample a new batch of data\n",
    "    xb, yb = get_batch(\"train\")\n",
    "    # evaluate the loss\n",
    "    logits, loss = m(xb, yb)\n",
    "    # drop previous gradients\n",
    "    optimizer.zero_grad(set_to_none=True)\n",
    "    # backpropagate the gradients\n",
    "    loss.backward()\n",
    "    # update the gradients\n",
    "    optimizer.step()\n",
    "print(loss.item())"
   ]
  },
  {
   "cell_type": "code",
   "execution_count": 40,
   "metadata": {},
   "outputs": [
    {
     "name": "stdout",
     "output_type": "stream",
     "text": [
      "\n",
      "Wiut;\n",
      "Winghic\n",
      "Lot yod aucacat t y hen d s w?\n",
      "thouryor, che nin me whaineay f I ath s t'ly minos; bye\n"
     ]
    }
   ],
   "source": [
    "print(decode(m.generate(idx, max_new_tokens=100)[0].tolist()))"
   ]
  },
  {
   "attachments": {},
   "cell_type": "markdown",
   "metadata": {},
   "source": [
    "## 6. Self-attention"
   ]
  },
  {
   "cell_type": "code",
   "execution_count": 26,
   "metadata": {},
   "outputs": [
    {
     "name": "stdout",
     "output_type": "stream",
     "text": [
      "torch.Size([4, 8, 32])\n"
     ]
    }
   ],
   "source": [
    "# self attention: correlating current token with all previous tokens\n",
    "B, T, C = 4, 8, 32\n",
    "x = torch.randn(B, T, C)\n",
    "tril = torch.tril(torch.ones(T,T))\n",
    "weights = torch.zeros((T,T))\n",
    "weights = weights.masked_fill(tril ==0, float(\"-inf\"))\n",
    "weights = F.softmax(weights, dim=-1)\n",
    "out = weights @ x\n",
    "#print(tril)\n",
    "#print(weights)\n",
    "print(out.shape)"
   ]
  },
  {
   "cell_type": "code",
   "execution_count": 35,
   "metadata": {},
   "outputs": [
    {
     "name": "stdout",
     "output_type": "stream",
     "text": [
      "torch.Size([4, 8, 16])\n"
     ]
    }
   ],
   "source": [
    "# self attention: correlating current token with all previous tokens\n",
    "B, T, C = 4, 8, 32\n",
    "x = torch.randn(B, T, C)\n",
    "\n",
    "# introduce self-attentions to allow for non-uniform\n",
    "# contribution of previous tokens and interesting correlations\n",
    "head_size = 16\n",
    "key = nn.Linear(C, head_size, bias=False)\n",
    "query = nn.Linear(C, head_size, bias=False)\n",
    "value = nn.Linear(C, head_size, bias=False)\n",
    "k = key(x) # (B, T, 16)\n",
    "q = query(x) # (B, T, 16)\n",
    "v = value(x) # (B, T, 16)\n",
    "weights = q @ k.transpose(-2, -1)* C**-0.5 # (B, T, 16) @ (B, 16, T) --> (B, T, T)\n",
    "\n",
    "tril = torch.tril(torch.ones(T,T))\n",
    "weights = weights.masked_fill(tril ==0, float(\"-inf\"))\n",
    "weights = F.softmax(weights, dim=-1)\n",
    "out = weights @ v\n",
    "#print(tril)\n",
    "#print(weights)\n",
    "print(out.shape)"
   ]
  },
  {
   "cell_type": "code",
   "execution_count": 36,
   "metadata": {},
   "outputs": [
    {
     "data": {
      "text/plain": [
       "tensor([[[1.0000, 0.0000, 0.0000, 0.0000, 0.0000, 0.0000, 0.0000, 0.0000],\n",
       "         [0.5908, 0.4092, 0.0000, 0.0000, 0.0000, 0.0000, 0.0000, 0.0000],\n",
       "         [0.2635, 0.3681, 0.3684, 0.0000, 0.0000, 0.0000, 0.0000, 0.0000],\n",
       "         [0.2168, 0.2405, 0.2929, 0.2498, 0.0000, 0.0000, 0.0000, 0.0000],\n",
       "         [0.2132, 0.1782, 0.2796, 0.1329, 0.1961, 0.0000, 0.0000, 0.0000],\n",
       "         [0.1671, 0.1776, 0.1480, 0.1278, 0.1718, 0.2076, 0.0000, 0.0000],\n",
       "         [0.1459, 0.1268, 0.2029, 0.1297, 0.1253, 0.1327, 0.1368, 0.0000],\n",
       "         [0.1318, 0.1365, 0.1477, 0.1305, 0.1331, 0.0771, 0.1023, 0.1409]],\n",
       "\n",
       "        [[1.0000, 0.0000, 0.0000, 0.0000, 0.0000, 0.0000, 0.0000, 0.0000],\n",
       "         [0.4392, 0.5608, 0.0000, 0.0000, 0.0000, 0.0000, 0.0000, 0.0000],\n",
       "         [0.4208, 0.2937, 0.2855, 0.0000, 0.0000, 0.0000, 0.0000, 0.0000],\n",
       "         [0.2053, 0.2712, 0.2246, 0.2988, 0.0000, 0.0000, 0.0000, 0.0000],\n",
       "         [0.2265, 0.1420, 0.2498, 0.1797, 0.2020, 0.0000, 0.0000, 0.0000],\n",
       "         [0.2402, 0.1083, 0.2361, 0.1727, 0.1301, 0.1125, 0.0000, 0.0000],\n",
       "         [0.1965, 0.0986, 0.1107, 0.1396, 0.1290, 0.1737, 0.1520, 0.0000],\n",
       "         [0.1304, 0.1037, 0.1380, 0.1502, 0.1132, 0.0834, 0.1708, 0.1103]],\n",
       "\n",
       "        [[1.0000, 0.0000, 0.0000, 0.0000, 0.0000, 0.0000, 0.0000, 0.0000],\n",
       "         [0.5358, 0.4642, 0.0000, 0.0000, 0.0000, 0.0000, 0.0000, 0.0000],\n",
       "         [0.3354, 0.4234, 0.2412, 0.0000, 0.0000, 0.0000, 0.0000, 0.0000],\n",
       "         [0.2030, 0.3205, 0.1925, 0.2839, 0.0000, 0.0000, 0.0000, 0.0000],\n",
       "         [0.1619, 0.2318, 0.1476, 0.2167, 0.2419, 0.0000, 0.0000, 0.0000],\n",
       "         [0.1753, 0.1531, 0.1041, 0.1519, 0.2024, 0.2131, 0.0000, 0.0000],\n",
       "         [0.1494, 0.1442, 0.1184, 0.1080, 0.1248, 0.2035, 0.1517, 0.0000],\n",
       "         [0.1041, 0.1261, 0.1517, 0.1222, 0.0969, 0.1005, 0.1269, 0.1714]],\n",
       "\n",
       "        [[1.0000, 0.0000, 0.0000, 0.0000, 0.0000, 0.0000, 0.0000, 0.0000],\n",
       "         [0.4925, 0.5075, 0.0000, 0.0000, 0.0000, 0.0000, 0.0000, 0.0000],\n",
       "         [0.3559, 0.3164, 0.3277, 0.0000, 0.0000, 0.0000, 0.0000, 0.0000],\n",
       "         [0.2297, 0.2560, 0.1899, 0.3244, 0.0000, 0.0000, 0.0000, 0.0000],\n",
       "         [0.1423, 0.1732, 0.2602, 0.2257, 0.1986, 0.0000, 0.0000, 0.0000],\n",
       "         [0.1173, 0.2121, 0.1459, 0.2320, 0.1289, 0.1639, 0.0000, 0.0000],\n",
       "         [0.1621, 0.1895, 0.1300, 0.1597, 0.1154, 0.1042, 0.1391, 0.0000],\n",
       "         [0.1113, 0.1024, 0.1356, 0.1093, 0.1194, 0.1587, 0.0945, 0.1688]]],\n",
       "       grad_fn=<SoftmaxBackward0>)"
      ]
     },
     "execution_count": 36,
     "metadata": {},
     "output_type": "execute_result"
    }
   ],
   "source": [
    "weights"
   ]
  }
 ],
 "metadata": {
  "kernelspec": {
   "display_name": "base",
   "language": "python",
   "name": "python3"
  },
  "language_info": {
   "codemirror_mode": {
    "name": "ipython",
    "version": 3
   },
   "file_extension": ".py",
   "mimetype": "text/x-python",
   "name": "python",
   "nbconvert_exporter": "python",
   "pygments_lexer": "ipython3",
   "version": "3.9.16"
  },
  "orig_nbformat": 4
 },
 "nbformat": 4,
 "nbformat_minor": 2
}
